{
 "cells": [
  {
   "cell_type": "code",
   "execution_count": null,
   "id": "159ceb55",
   "metadata": {},
   "outputs": [],
   "source": [
    "import numpy as np\n",
    "import pandas as pd\n",
    "import matplotlib.pyplot as plt\n",
    "import seaborn as sns\n",
    "import pymc as pm\n",
    "import arviz as az\n",
    "from statsmodels.graphics.tsaplots import plot_acf\n",
    "from statsmodels.graphics.tsaplots import plot_pacf\n",
    "from sklearn.preprocessing import MaxAbsScaler\n",
    "\n",
    "from utils import summary_table"
   ]
  },
  {
   "cell_type": "code",
   "execution_count": null,
   "id": "bdf7acd8",
   "metadata": {},
   "outputs": [],
   "source": [
    "print(f\"Running on PyMC v{pm.__version__}\")"
   ]
  },
  {
   "cell_type": "code",
   "execution_count": null,
   "id": "9de5d393",
   "metadata": {},
   "outputs": [],
   "source": [
    "raw = pd.read_csv('MMM_test_data.csv')\n",
    "df=raw.copy()"
   ]
  },
  {
   "cell_type": "code",
   "execution_count": null,
   "id": "0746a036",
   "metadata": {},
   "outputs": [],
   "source": [
    "df['start_of_week'] = pd.to_datetime(df['start_of_week'])\n",
    "# df.set_index('start_of_week', inplace=True)"
   ]
  },
  {
   "cell_type": "code",
   "execution_count": null,
   "id": "71f2b40d",
   "metadata": {
    "scrolled": true
   },
   "outputs": [],
   "source": [
    "summary_table(df)"
   ]
  },
  {
   "cell_type": "code",
   "execution_count": null,
   "id": "44252012",
   "metadata": {},
   "outputs": [],
   "source": [
    "#values for revenue compared the channels differs in scale\n",
    "df.boxplot()"
   ]
  },
  {
   "cell_type": "code",
   "execution_count": null,
   "id": "ab54aa8b",
   "metadata": {
    "scrolled": true
   },
   "outputs": [],
   "source": [
    "rwm = raw.melt('start_of_week',var_name='cols', value_name='vals')\n",
    "rwm['type']= 'daily'\n",
    "weekly = rwm.groupby([pd.to_datetime(rwm.start_of_week).dt.week,'cols']).mean().reset_index()\n",
    "weekly['type']='weekly'\n",
    "monthly = rwm.groupby([pd.to_datetime(rwm.start_of_week).dt.month,'cols']).mean().reset_index()\n",
    "monthly['type']='monthly'\n",
    "df_table= rwm.append(weekly, ignore_index=True).append(monthly,ignore_index=True)\n"
   ]
  },
  {
   "cell_type": "code",
   "execution_count": null,
   "id": "2ee1e059",
   "metadata": {
    "scrolled": true
   },
   "outputs": [],
   "source": [
    "sns.relplot(data=df_table, x=\"start_of_week\", y=\"vals\", col=\"type\",row='cols',kind=\"line\", facet_kws=dict(sharex=False,sharey=False))"
   ]
  },
  {
   "cell_type": "code",
   "execution_count": null,
   "id": "fb00f1ca",
   "metadata": {},
   "outputs": [],
   "source": [
    "df['day'] = pd.to_datetime(df.start_of_week).dt.dayofyear\n",
    "df['week'] = pd.to_datetime(df.start_of_week).dt.week\n",
    "df['month'] = pd.to_datetime(df.start_of_week).dt.month\n",
    "df['year'] = pd.to_datetime(df.start_of_week).dt.year"
   ]
  },
  {
   "cell_type": "code",
   "execution_count": null,
   "id": "c4cfad4e",
   "metadata": {},
   "outputs": [],
   "source": [
    "df"
   ]
  },
  {
   "cell_type": "code",
   "execution_count": null,
   "id": "19af0b8a",
   "metadata": {},
   "outputs": [],
   "source": [
    "n_order = 1\n",
    "periods = df[\"day\"] / 365.25\n",
    "fourier_features = pd.DataFrame(\n",
    "    {\n",
    "        f\"{func}_order_{order}\": getattr(np, func)(2 * np.pi * periods * order)\n",
    "        for order in range(1, n_order + 1)\n",
    "        for func in (\"sin\", \"cos\")\n",
    "    }\n",
    ")\n"
   ]
  },
  {
   "cell_type": "code",
   "execution_count": null,
   "id": "ec001317",
   "metadata": {},
   "outputs": [],
   "source": [
    "fig, ax = plt.subplots(nrows=2, sharex=True, layout=\"constrained\")\n",
    "fourier_features.filter(like=\"sin\").plot(color=\"C0\", alpha=0.15, ax=ax[0])\n",
    "ax[0].get_legend().remove()\n",
    "ax[0].set(title=\"Fourier Modes (Sin)\", xlabel=\"index (week)\")\n",
    "fourier_features.filter(like=\"cos\").plot(color=\"C1\", alpha=0.15, ax=ax[1])\n",
    "ax[1].get_legend().remove()\n",
    "ax[1].set(title=\"Fourier Modes (Cos)\", xlabel=\"index (week)\");"
   ]
  },
  {
   "cell_type": "code",
   "execution_count": null,
   "id": "85ceaf5f",
   "metadata": {},
   "outputs": [],
   "source": [
    "plot_periodogram(df.revenue);"
   ]
  },
  {
   "cell_type": "code",
   "execution_count": null,
   "id": "d7c81d8c",
   "metadata": {},
   "outputs": [],
   "source": [
    "def plot_periodogram(ts, detrend='linear', ax=None):\n",
    "    from scipy.signal import periodogram\n",
    "    fs = pd.Timedelta(\"1Y\") / pd.Timedelta(\"1D\")\n",
    "    freqencies, spectrum = periodogram(\n",
    "        ts,\n",
    "        fs=fs,\n",
    "        detrend=detrend,\n",
    "        window=\"boxcar\",\n",
    "        scaling='spectrum',\n",
    "    )\n",
    "    if ax is None:\n",
    "        _, ax = plt.subplots()\n",
    "    ax.step(freqencies, spectrum, color=\"purple\")\n",
    "    ax.set_xscale(\"log\")\n",
    "    ax.set_xticks([1, 2, 4, 6, 12, 26, 52, 104])\n",
    "    ax.set_xticklabels(\n",
    "        [\n",
    "            \"Annual (1)\",\n",
    "            \"Semiannual (2)\",\n",
    "            \"Quarterly (4)\",\n",
    "            \"Bimonthly (6)\",\n",
    "            \"Monthly (12)\",\n",
    "            \"Biweekly (26)\",\n",
    "            \"Weekly (52)\",\n",
    "            \"Semiweekly (104)\",\n",
    "        ],\n",
    "        rotation=30,\n",
    "    )\n",
    "    ax.ticklabel_format(axis=\"y\", style=\"sci\", scilimits=(0, 0))\n",
    "    ax.set_ylabel(\"Variance\")\n",
    "    ax.set_title(\"Periodogram\")\n",
    "    return ax"
   ]
  },
  {
   "cell_type": "code",
   "execution_count": null,
   "id": "70dbf974",
   "metadata": {},
   "outputs": [],
   "source": [
    "def fourier_features(index, freq, order):\n",
    "    time = np.arange(len(index), dtype=np.float32)\n",
    "    k = 2 * np.pi * (1 / freq) * time\n",
    "    features = {}\n",
    "    for i in range(1, order + 1):\n",
    "        features.update({\n",
    "            f\"sin_{freq}_{i}\": np.sin(i * k),\n",
    "            f\"cos_{freq}_{i}\": np.cos(i * k),\n",
    "        })\n",
    "    return pd.DataFrame(features, index=index)"
   ]
  },
  {
   "cell_type": "code",
   "execution_count": null,
   "id": "998ab409",
   "metadata": {},
   "outputs": [],
   "source": [
    "from statsmodels.tsa.seasonal import seasonal_decompose\n",
    "series = df['revenue']\n",
    "result = seasonal_decompose(series, model='additive')\n",
    "result.plot()\n",
    "pyplot.show()"
   ]
  },
  {
   "cell_type": "code",
   "execution_count": null,
   "id": "d2228e96",
   "metadata": {},
   "outputs": [],
   "source": [
    "df.corr()"
   ]
  },
  {
   "cell_type": "code",
   "execution_count": null,
   "id": "77c61ead",
   "metadata": {},
   "outputs": [],
   "source": [
    "# figure for subplots\n",
    "plt.figure(figsize = (12, 8))\n",
    "\n",
    "# acf and pacf for A\n",
    "plt.subplot(421); plot_acf(sales_a, lags = 50, ax = plt.gca(), color = c)\n",
    "plt.subplot(422); plot_pacf(sales_a, lags = 50, ax = plt.gca(), color = c)\n",
    "\n",
    "# acf and pacf for B\n",
    "plt.subplot(423); plot_acf(sales_b, lags = 50, ax = plt.gca(), color = c)\n",
    "plt.subplot(424); plot_pacf(sales_b, lags = 50, ax = plt.gca(), color = c)\n",
    "\n",
    "# acf and pacf for C\n",
    "plt.subplot(425); plot_acf(sales_c, lags = 50, ax = plt.gca(), color = c)\n",
    "plt.subplot(426); plot_pacf(sales_c, lags = 50, ax = plt.gca(), color = c)\n",
    "\n",
    "# acf and pacf for D\n",
    "plt.subplot(427); plot_acf(sales_d, lags = 50, ax = plt.gca(), color = c)\n",
    "plt.subplot(428); plot_pacf(sales_d, lags = 50, ax = plt.gca(), color = c)\n",
    "\n",
    "plt.show()\n",
    "\n"
   ]
  },
  {
   "cell_type": "code",
   "execution_count": null,
   "id": "666312f6",
   "metadata": {
    "scrolled": true
   },
   "outputs": [],
   "source": [
    "_ = plot_lags(df.revenue, lags=24, nrows=4)"
   ]
  },
  {
   "cell_type": "code",
   "execution_count": null,
   "id": "bec69fde",
   "metadata": {},
   "outputs": [],
   "source": [
    "def lagplot(x, y=None, lag=1, standardize=True, ax=None, **kwargs):\n",
    "    from matplotlib.offsetbox import AnchoredText\n",
    "    x_ = x.shift(lag)\n",
    "    if standardize:\n",
    "        x_ = (x_ - x_.mean()) / x_.std()\n",
    "    if y is not None:\n",
    "        y_ = (y - y.mean()) / y.std() if standardize else y\n",
    "    else:\n",
    "        y_ = x\n",
    "    corr = y_.corr(x_)\n",
    "    if ax is None:\n",
    "        fig, ax = plt.subplots()\n",
    "    scatter_kws = dict(\n",
    "        alpha=0.75,\n",
    "        s=3,\n",
    "    )\n",
    "    line_kws = dict(color='C3', )\n",
    "    ax = sns.regplot(x=x_,\n",
    "                     y=y_,\n",
    "                     scatter_kws=scatter_kws,\n",
    "                     line_kws=line_kws,\n",
    "                     lowess=True,\n",
    "                     ax=ax,\n",
    "                     **kwargs)\n",
    "    at = AnchoredText(\n",
    "        f\"{corr:.2f}\",\n",
    "        prop=dict(size=\"large\"),\n",
    "        frameon=True,\n",
    "        loc=\"upper left\",\n",
    "    )\n",
    "    at.patch.set_boxstyle(\"square, pad=0.0\")\n",
    "    ax.add_artist(at)\n",
    "    ax.set(title=f\"Lag {lag}\", xlabel=x_.name, ylabel=y_.name)\n",
    "    return ax\n",
    "\n",
    "\n",
    "def plot_lags(x, y=None, lags=6, nrows=1, lagplot_kwargs={}, **kwargs):\n",
    "    import math\n",
    "    kwargs.setdefault('nrows', nrows)\n",
    "    kwargs.setdefault('ncols', math.ceil(lags / nrows))\n",
    "    kwargs.setdefault('figsize', (kwargs['ncols'] * 2, nrows * 2 + 0.5))\n",
    "    fig, axs = plt.subplots(sharex=True, sharey=True, squeeze=False, **kwargs)\n",
    "    for ax, k in zip(fig.get_axes(), range(kwargs['nrows'] * kwargs['ncols'])):\n",
    "        if k + 1 <= lags:\n",
    "            ax = lagplot(x, y, lag=k + 1, ax=ax, **lagplot_kwargs)\n",
    "            ax.set_title(f\"Lag {k + 1}\", fontdict=dict(fontsize=14))\n",
    "            ax.set(xlabel=\"\", ylabel=\"\")\n",
    "        else:\n",
    "            ax.axis('off')\n",
    "    plt.setp(axs[-1, :], xlabel=x.name)\n",
    "    plt.setp(axs[:, 0], ylabel=y.name if y is not None else x.name)\n",
    "    fig.tight_layout(w_pad=0.1, h_pad=0.1)\n",
    "    return fig"
   ]
  },
  {
   "cell_type": "code",
   "execution_count": null,
   "id": "d90afbbf",
   "metadata": {},
   "outputs": [],
   "source": [
    "df['week'] = pd.to_datetime(df.start_of_week).dt.day\n",
    "df['month'] = pd.to_datetime(df.start_of_week).dt.month\n",
    "df['year'] = pd.to_datetime(df.start_of_week).dt.year\n"
   ]
  },
  {
   "cell_type": "code",
   "execution_count": null,
   "id": "dfce0b15",
   "metadata": {},
   "outputs": [],
   "source": [
    "spend_channels= ['spend_channel_1','spend_channel_2','spend_channel_3','spend_channel_4','spend_channel_5','spend_channel_6','spend_channel_7']\n",
    "# df['total_spent'] = df[spend_channels].sum(axis=1)"
   ]
  },
  {
   "cell_type": "code",
   "execution_count": null,
   "id": "b3547bf6",
   "metadata": {},
   "outputs": [],
   "source": [
    "raw.melt('start_of_week',var_name='cols', value_name='vals')"
   ]
  },
  {
   "cell_type": "code",
   "execution_count": null,
   "id": "1d0ef37d",
   "metadata": {},
   "outputs": [],
   "source": [
    "rwm = raw.melt('start_of_week',var_name='cols', value_name='vals')\n"
   ]
  },
  {
   "cell_type": "code",
   "execution_count": null,
   "id": "4e5394c8",
   "metadata": {},
   "outputs": [],
   "source": [
    "rwm[rwm['cols']=='revenue']"
   ]
  },
  {
   "cell_type": "code",
   "execution_count": null,
   "id": "cfddab75",
   "metadata": {},
   "outputs": [],
   "source": [
    "rwm.mask(rwm['cols']=='revenue').dropna()"
   ]
  },
  {
   "cell_type": "code",
   "execution_count": null,
   "id": "d134a592",
   "metadata": {},
   "outputs": [],
   "source": [
    "sns.lineplot(data=rwm.mask(rwm['cols']=='revenue').dropna(), x=pd.to_datetime(rwm.start_of_week).dt.week,y='vals',hue='cols')"
   ]
  },
  {
   "cell_type": "code",
   "execution_count": null,
   "id": "d1f4a682",
   "metadata": {},
   "outputs": [],
   "source": [
    "rwm[rwm['cols']=='revenue']"
   ]
  },
  {
   "cell_type": "code",
   "execution_count": null,
   "id": "5d967e74",
   "metadata": {},
   "outputs": [],
   "source": [
    "\n",
    "fig = plt.figure(figsize=(10, 10))\n",
    "ax1 = sns.lineplot( \n",
    "    x=pd.to_datetime(rwm.mask(rwm['cols']=='revenue').dropna().start_of_week).dt.week,\n",
    "    y='vals',\n",
    "    hue='cols',\n",
    "    data=rwm.mask(rwm['cols']=='revenue').dropna(), \n",
    "    sort=False, \n",
    "    color='blue',\n",
    "    linewidth=4\n",
    ")\n",
    "\n",
    "ax2 = ax1.twinx()# plot bar graph on axis #2\n",
    "sns.barplot( \n",
    "    x=pd.to_datetime(rwm[rwm['cols']=='revenue'].start_of_week).dt.week,\n",
    "    y= 'vals',\n",
    "    data=rwm[rwm['cols']=='revenue'], \n",
    "    color='orange', \n",
    "    alpha=0.5, \n",
    "    ax = ax2       # Pre-existing axes for the plot\n",
    ")\n",
    "ax1.tick_params(axis='x', rotation=90)\n",
    "ax1.set_ylabel('avg Trips')\n",
    "ax1.set_xlabel('Days')\n",
    "\n",
    "plt.show()\n"
   ]
  },
  {
   "cell_type": "code",
   "execution_count": null,
   "id": "eb8194c5",
   "metadata": {},
   "outputs": [],
   "source": [
    "basic_model = pm.Model()\n",
    "\n",
    "with basic_model:\n",
    "    # Priors for unknown model parameters\n",
    "    alpha = pm.Normal(\"alpha\", mu=0, sigma=10)\n",
    "    beta = pm.Normal(\"beta\", mu=0, sigma=10, shape=2)\n",
    "    sigma = pm.HalfNormal(\"sigma\", sigma=1)\n",
    "\n",
    "    # Expected value of outcome\n",
    "    mu = alpha + beta[0] * X1 + beta[1] * X2\n",
    "\n",
    "    # Likelihood (sampling distribution) of observations\n",
    "    Y_obs = pm.Normal(\"Y_obs\", mu=mu, sigma=sigma, observed=Y)"
   ]
  },
  {
   "cell_type": "code",
   "execution_count": null,
   "id": "17ea4afc",
   "metadata": {},
   "outputs": [],
   "source": [
    "with basic_model:\n",
    "    # draw 1000 posterior samples\n",
    "    idata = pm.sample()"
   ]
  },
  {
   "cell_type": "code",
   "execution_count": null,
   "id": "90c950c0",
   "metadata": {},
   "outputs": [],
   "source": [
    "pm.model_to_graphviz(basic_model)"
   ]
  },
  {
   "cell_type": "code",
   "execution_count": null,
   "id": "f29618f3",
   "metadata": {},
   "outputs": [],
   "source": [
    "idata\n"
   ]
  },
  {
   "cell_type": "code",
   "execution_count": null,
   "id": "8e82bcff",
   "metadata": {},
   "outputs": [],
   "source": [
    "az.plot_trace(idata, combined=True);"
   ]
  },
  {
   "cell_type": "code",
   "execution_count": null,
   "id": "c4fb3f0e",
   "metadata": {},
   "outputs": [],
   "source": [
    "az.summary(idata, round_to=2)"
   ]
  },
  {
   "cell_type": "code",
   "execution_count": null,
   "id": "d21a0598",
   "metadata": {},
   "outputs": [],
   "source": [
    "az.plot_energy(idata);"
   ]
  },
  {
   "cell_type": "code",
   "execution_count": null,
   "id": "cc61bce4",
   "metadata": {},
   "outputs": [],
   "source": [
    "az.plot_forest(idata, var_names=[\"beta\"], combined=True, hdi_prob=0.95, r_hat=True);"
   ]
  },
  {
   "cell_type": "code",
   "execution_count": null,
   "id": "8e95b7fd",
   "metadata": {},
   "outputs": [],
   "source": [
    "spend_channels= ['spend_channel_1','spend_channel_2','spend_channel_3','spend_channel_4','spend_channel_5','spend_channel_6','spend_channel_7']\n",
    "spends = df[spend_channels].copy()"
   ]
  }
 ],
 "metadata": {
  "kernelspec": {
   "display_name": "Python 3 (ipykernel)",
   "language": "python",
   "name": "python3"
  },
  "language_info": {
   "codemirror_mode": {
    "name": "ipython",
    "version": 3
   },
   "file_extension": ".py",
   "mimetype": "text/x-python",
   "name": "python",
   "nbconvert_exporter": "python",
   "pygments_lexer": "ipython3",
   "version": "3.9.16"
  }
 },
 "nbformat": 4,
 "nbformat_minor": 5
}
