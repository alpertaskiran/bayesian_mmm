{
 "cells": [
  {
   "cell_type": "code",
   "execution_count": 22,
   "id": "1c1b7c28",
   "metadata": {},
   "outputs": [
    {
     "name": "stdout",
     "output_type": "stream",
     "text": [
      "The autoreload extension is already loaded. To reload it, use:\n",
      "  %reload_ext autoreload\n"
     ]
    }
   ],
   "source": [
    "%load_ext autoreload\n",
    "%autoreload 2"
   ]
  },
  {
   "cell_type": "code",
   "execution_count": 15,
   "id": "65da4c7a",
   "metadata": {},
   "outputs": [],
   "source": [
    "import numpy as np\n",
    "import pandas as pd\n",
    "import matplotlib.pyplot as plt\n",
    "import seaborn as sns\n",
    "import pymc as pm\n",
    "import arviz as az\n",
    "import pytensor.tensor as pt\n",
    "import xarray as xr\n",
    "\n",
    "from utils import delayed_adstock\n",
    "from plots import plot_posterior\n",
    "from plots import plot_prior_predictive_samples\n",
    "from models import mmm_model\n",
    "from utils import max_abs_scaler\n",
    "from utils import create_trend_seasonality\n"
   ]
  },
  {
   "cell_type": "code",
   "execution_count": 8,
   "id": "64f86d38",
   "metadata": {},
   "outputs": [
    {
     "name": "stdout",
     "output_type": "stream",
     "text": [
      "Running on PyMC v5.2.0\n"
     ]
    }
   ],
   "source": [
    "print(f\"Running on PyMC v{pm.__version__}\")"
   ]
  },
  {
   "cell_type": "code",
   "execution_count": 9,
   "id": "8b1c089a",
   "metadata": {},
   "outputs": [],
   "source": [
    "raw = pd.read_csv('../data/data.csv')\n",
    "df=raw.copy()\n"
   ]
  },
  {
   "cell_type": "code",
   "execution_count": 17,
   "id": "97170a24",
   "metadata": {},
   "outputs": [],
   "source": [
    "spend_channels= ['spend_channel_1','spend_channel_2','spend_channel_3','spend_channel_4','spend_channel_5','spend_channel_6','spend_channel_7']\n",
    "df['start_of_week'] = pd.to_datetime(df['start_of_week'],format=\"%d-%m-%y\",dayfirst=True)\n",
    "date_data= df['start_of_week']\n",
    "channel_data = df[spend_channels]\n",
    "target_data=df['revenue']\n",
    "n_obs,n_channels= np.shape(channel_data)\n",
    "df['day'] = df.start_of_week.dt.dayofyear\n"
   ]
  },
  {
   "cell_type": "code",
   "execution_count": 18,
   "id": "28b14213",
   "metadata": {},
   "outputs": [],
   "source": [
    "target_scaler, target_scaled = max_abs_scaler(target_data, True)\n",
    "channel_scaler, channel_scaled = max_abs_scaler(channel_data,False)\n"
   ]
  },
  {
   "cell_type": "code",
   "execution_count": 19,
   "id": "3d9b6ca9",
   "metadata": {},
   "outputs": [
    {
     "data": {
      "text/plain": [
       "<Axes: >"
      ]
     },
     "execution_count": 19,
     "metadata": {},
     "output_type": "execute_result"
    }
   ],
   "source": [
    "# outliers exist but the transformation is completed.\n",
    "channel_scaled.boxplot( rot=30)"
   ]
  },
  {
   "cell_type": "code",
   "execution_count": 23,
   "id": "b6fe7c58",
   "metadata": {},
   "outputs": [],
   "source": [
    "trend,seasonality = create_trend_seasonality(df)"
   ]
  },
  {
   "cell_type": "code",
   "execution_count": 25,
   "id": "c54f9a75",
   "metadata": {},
   "outputs": [],
   "source": [
    "model_input = {\"date\": date_data,\n",
    "        \"channel\": channel_scaled,\n",
    "        \"seasonality\":seasonality,\n",
    "        \"trend\": trend\n",
    "} \n",
    "target = target_scaled"
   ]
  },
  {
   "cell_type": "code",
   "execution_count": 26,
   "id": "665e15e0",
   "metadata": {},
   "outputs": [
    {
     "name": "stderr",
     "output_type": "stream",
     "text": [
      "Sampling: [alpha, b_trend, beta_channel, delay, gamma_control, intercept, likelihood, nu, sigma]\n"
     ]
    }
   ],
   "source": [
    "model,model_prior_predictive = mmm_model(model_input,target)"
   ]
  },
  {
   "cell_type": "code",
   "execution_count": null,
   "id": "a55b84c2",
   "metadata": {},
   "outputs": [],
   "source": [
    "# useful way to color the distribution\n",
    "plot_settings={\n",
    "'palette' :\"viridis_r\",\n",
    "'cmap' :plt.get_cmap(\"viridis_r\"),\n",
    "'percs' :np.linspace(51, 99, 100),\n",
    "'colors' :(np.linspace(51, 99, 100) - np.min(np.linspace(51, 99, 100))) / (np.max(np.linspace(51, 99, 100)) - np.min(np.linspace(51, 99, 100)))}\n",
    "plot_prior_predictive_samples(model_prior_predictive,target_scaled,date_data,plot_settings)\n"
   ]
  },
  {
   "cell_type": "code",
   "execution_count": null,
   "id": "cf7fef1b",
   "metadata": {
    "scrolled": true
   },
   "outputs": [],
   "source": [
    "with model:\n",
    "    model_trace = pm.sample(\n",
    "        nuts_sampler=\"numpyro\",\n",
    "        draws=8_000,\n",
    "        chains=4,\n",
    "        idata_kwargs={\"log_likelihood\": True},\n",
    "    )\n",
    "    model_posterior_predictive = pm.sample_posterior_predictive(\n",
    "        trace=model_trace\n",
    "    )"
   ]
  },
  {
   "cell_type": "code",
   "execution_count": null,
   "id": "7ed73268",
   "metadata": {
    "scrolled": true
   },
   "outputs": [],
   "source": [
    "az.summary(\n",
    "    data=model_trace,\n",
    "    var_names=['alpha','delay','intercept','b_trend','beta_channel','sigma'])"
   ]
  },
  {
   "cell_type": "code",
   "execution_count": null,
   "id": "9be9b842",
   "metadata": {
    "scrolled": true
   },
   "outputs": [],
   "source": [
    "axes = az.plot_trace(\n",
    "    data=model_trace,\n",
    "#     var_names=['alpha','delay','intercept','b_trend','beta_channel','nu','gamma_control'],\n",
    "    var_names=['alpha','delay','beta_channel','sigma'],\n",
    "    compact=False,\n",
    "    combined=False,\n",
    "    backend_kwargs={\n",
    "        \"figsize\": (24, 48),\n",
    "        \"layout\": \"constrained\"\n",
    "    },\n",
    ")\n",
    "fig = axes[0][0].get_figure()\n",
    "fig.suptitle(\"Base Model - Trace\")\n",
    "plt.show()\n",
    "# here we see on the right side distribtuion on each chain seperatly . on left we see the \n",
    "# convergence on each chain."
   ]
  },
  {
   "cell_type": "code",
   "execution_count": null,
   "id": "bbd64ced",
   "metadata": {},
   "outputs": [],
   "source": [
    "fig, ax = plt.subplots(figsize=(10, 8))\n",
    "az.plot_forest(\n",
    "    data=model_trace,\n",
    "    var_names=['alpha','delay','beta_channel','sigma'],\n",
    "    combined=True,\n",
    "    ax=ax\n",
    ")\n",
    "ax.set(\n",
    "    title=\"Model: 94.0% HDI\",\n",
    "    xscale=\"log\"\n",
    ")\n",
    "plt.show()"
   ]
  },
  {
   "cell_type": "code",
   "execution_count": null,
   "id": "4b055f9d",
   "metadata": {},
   "outputs": [],
   "source": [
    "## posterior prediction"
   ]
  },
  {
   "cell_type": "code",
   "execution_count": null,
   "id": "040e7bdd",
   "metadata": {},
   "outputs": [],
   "source": [
    "plot_posterior(model_posterior_predictive,date_data,target_data,target_scaler,plot_settings)\n"
   ]
  },
  {
   "cell_type": "code",
   "execution_count": null,
   "id": "d88e2d9b",
   "metadata": {
    "scrolled": true
   },
   "outputs": [],
   "source": [
    "#The HDI can be used in the context of\n",
    "#uncertainty characterisation of posterior distributions as Credible Interval (CI).\n",
    "model_hdi = az.hdi(ary=model_trace)\n",
    "\n",
    "fig, ax = plt.subplots(figsize=(18, 12))\n",
    "\n",
    "for i in range(n_channels):\n",
    "    ax.fill_between(\n",
    "        x=date_data,\n",
    "        y1=model_hdi['channel_contributions'][:, i,0],\n",
    "        y2=model_hdi['channel_contributions'][:, i,1],\n",
    "        color=f\"C{i}\",\n",
    "        alpha=0.3,\n",
    "        label=f\"$94\\%$ HDI (channel {i})\",\n",
    "    )\n",
    "    sns.lineplot(\n",
    "        x=date_data,\n",
    "        y=model_trace.posterior['channel_contributions'].stack(sample=(\"chain\", \"draw\")).mean(axis=2)[:,i]\n",
    "    )\n",
    "sns.lineplot(x=date_data, y=target_scaled, color=\"black\", alpha=1.0, label=\"target (scaled)\", ax=ax)\n",
    "plt.show()"
   ]
  },
  {
   "cell_type": "code",
   "execution_count": null,
   "id": "d34220bb",
   "metadata": {
    "scrolled": false
   },
   "outputs": [],
   "source": [
    "# compute HDI for all the control parameters\n",
    "fig, ax = plt.subplots()\n",
    "\n",
    "for i in range(n_channels):\n",
    "    ax.fill_between(\n",
    "        x=date_data,\n",
    "        y1=model_hdi['control_contributions'][:, i,0],\n",
    "        y2=model_hdi['control_contributions'][:, i,1],\n",
    "        color=f\"C{i}\",\n",
    "        alpha=0.2,\n",
    "        label=f\"$94\\%$ HDI ('control_contributions'{i})\",\n",
    "    )\n",
    "    sns.lineplot(\n",
    "        x=date_data,\n",
    "        y=model_trace.posterior['control_contributions'].stack(sample=(\"chain\", \"draw\")).mean(axis=2)[:,i]\n",
    "    )\n",
    "\n",
    "ax.fill_between(\n",
    "    x=date_data,\n",
    "    y1=model_hdi['trend'][:,0],\n",
    "    y2=model_hdi['trend'][:,1],\n",
    "    color=f\"C{i}\",\n",
    "    alpha=0.2,\n",
    "    label=f\"$94\\%$ HDI ({'trend'})\",\n",
    ")\n",
    "sns.lineplot(\n",
    "    x=date_data,\n",
    "    y=model_trace.posterior['trend'].stack(sample=(\"chain\", \"draw\")).mean(axis=1)\n",
    ")\n",
    "sns.lineplot(x=date_data, y=target_scaled, color=\"black\", alpha=0.8, label=\"target (scaled)\", ax=ax)\n",
    "plt.xticks(rotation=30)\n",
    "plt.show()"
   ]
  },
  {
   "cell_type": "code",
   "execution_count": null,
   "id": "5070fc56",
   "metadata": {
    "scrolled": false
   },
   "outputs": [],
   "source": [
    "#channel contribtuion figures\n",
    "\n",
    "channel_contributions_posterior_samples = xr.apply_ufunc(\n",
    "    lambda x: channel_scaler.inverse_transform(X=x),\n",
    "    model_trace.posterior[\"channel_contributions\"],\n",
    "    input_core_dims=[[\"date\",\"channel\"]],\n",
    "    output_core_dims=[[\"date\",\"channel\"]],\n",
    "    vectorize=True,\n",
    ")\n",
    "\n",
    "\n",
    "channel_effect_hdi = az.hdi(ary=channel_contributions_posterior_samples)[\"channel_contributions\"]\n",
    "\n",
    "for i in range(n_channels):\n",
    "\n",
    "    fig, ax = plt.subplots()\n",
    "    ax.fill_between(\n",
    "        x=date_data,\n",
    "        y1=channel_effect_hdi[:,i ,0],\n",
    "        y2=channel_effect_hdi[:,i ,1],\n",
    "        color=\"C0\",\n",
    "        alpha=0.5,\n",
    "        label=f\"$94\\%$ HDI (channel {i+1})\",\n",
    "    )\n",
    "    ax.tick_params(labelrotation=30)\n",
    "    sns.lineplot(\n",
    "        x=date_data,\n",
    "        y=channel_contributions_posterior_samples.stack(sample=(\"chain\", \"draw\")).mean(axis=2)[:,i],\n",
    "        linestyle=\"--\",\n",
    "    )\n",
    "ax.legend(loc=\"upper right\")\n",
    "plt.show()"
   ]
  },
  {
   "cell_type": "code",
   "execution_count": null,
   "id": "50f2178e",
   "metadata": {},
   "outputs": [],
   "source": [
    "# 2nd model with normal likelihood\n",
    "max_lag=13\n",
    "\n",
    "with pm.Model(coords=coords) as model_normal:\n",
    "    #data containers\n",
    "    channel_data_ = pm.MutableData(\n",
    "        name=\"channel_data\",\n",
    "        value=channel_scaled,\n",
    "        dims=(\"date\", \"channel\"),\n",
    "    )\n",
    "    seasonality_ = pm.MutableData(\n",
    "        name=\"seasonality_data\", value=seasonality, dims=(\"date\", \"seasonality\")\n",
    "    )\n",
    "    trend_ = pm.MutableData(\n",
    "        name=\"t\", value=df['trend'], dims=(\"date\")\n",
    "    )\n",
    "    \n",
    "    target_ = pm.MutableData(name=\"target\", value=target_scaled, dims=\"date\")\n",
    "\n",
    "    #-priors\n",
    "    intercept = pm.Normal(name=\"intercept\", mu=0, sigma=1)\n",
    "    b_trend = pm.Normal(name=\"b_trend\", mu=0, sigma=1)\n",
    "    beta_channel = pm.HalfNormal(\n",
    "        name=\"beta_channel\", sigma=1, dims=\"channel\"\n",
    "    )\n",
    "    alpha = pm.Beta(name=\"alpha\", alpha=3, beta=3, dims=\"channel\")\n",
    "    theta = pm.Uniform('delay',lower=0,upper=max_lag,dims='channel')\n",
    "    sigma = pm.HalfNormal(name=\"sigma\", sigma=1)\n",
    "    fourier_control = pm.Laplace(\n",
    "        name=\"gamma_control\", mu=0, b=1, dims=\"seasonality\"\n",
    "    )\n",
    "    #model parametrization\n",
    "    channel_adstock = pm.Deterministic(\n",
    "        name=\"channel_adstock\",\n",
    "        var=delayed_adstock(\n",
    "            x=channel_data_,\n",
    "            alpha=alpha,\n",
    "            theta=theta,\n",
    "            l_max = max_lag-1\n",
    "        ),\n",
    "        dims=(\"date\", \"channel\"),\n",
    "    )\n",
    "\n",
    "    channel_contributions = pm.Deterministic(\n",
    "        name=\"channel_contributions\",\n",
    "        var=channel_adstock*beta_channel,\n",
    "        dims=(\"date\", \"channel\"),\n",
    "    )\n",
    "    \n",
    "    mu_var =  channel_contributions.sum(axis=-1)\n",
    "    \n",
    "    trend = pm.Deterministic(\"trend\", intercept + b_trend * trend_, dims=\"date\")\n",
    "    \n",
    "    control_contributions = pm.Deterministic(\n",
    "        name=\"control_contributions\",\n",
    "        var=seasonality_ * fourier_control,\n",
    "        dims=(\"date\", \"seasonality\"),\n",
    "    )\n",
    "    \n",
    "    mu_var += control_contributions.sum(axis=-1)\n",
    "    mu_var += trend\n",
    "    mu = pm.Deterministic(name=\"mu\", var=mu_var, dims=\"date\")\n",
    "\n",
    "    pm.Normal(\n",
    "                name=\"likelihood\",\n",
    "                mu=mu,\n",
    "                sigma=sigma,\n",
    "                observed=target_,\n",
    "                dims=\"date\",\n",
    "            )\n",
    "    model_prior_predictive_normal = pm.sample_prior_predictive()"
   ]
  },
  {
   "cell_type": "code",
   "execution_count": null,
   "id": "31c8ba61",
   "metadata": {},
   "outputs": [],
   "source": [
    "model_normal"
   ]
  },
  {
   "cell_type": "code",
   "execution_count": null,
   "id": "957a2a4f",
   "metadata": {
    "scrolled": true
   },
   "outputs": [],
   "source": [
    "with model_normal:\n",
    "    model_trace_normal = pm.sample(\n",
    "        nuts_sampler=\"numpyro\",\n",
    "        draws=8_000,\n",
    "        chains=4,\n",
    "        idata_kwargs={\"log_likelihood\": True},\n",
    "    )\n",
    "    model_posterior_predictive_normal = pm.sample_posterior_predictive(\n",
    "        trace=model_trace_normal\n",
    "    )"
   ]
  },
  {
   "cell_type": "code",
   "execution_count": null,
   "id": "788805bf",
   "metadata": {
    "scrolled": true
   },
   "outputs": [],
   "source": [
    "dataset_dict = {\n",
    "    \"model\": model_trace,\n",
    "    \"model_normal\": model_trace_normal,\n",
    "}\n",
    "df_comp = az.compare(compare_dict=dataset_dict, ic=\"loo\", method=\"stacking\", scale=\"log\")\n",
    "df_comp"
   ]
  },
  {
   "cell_type": "code",
   "execution_count": null,
   "id": "aad0e72f",
   "metadata": {
    "scrolled": true
   },
   "outputs": [],
   "source": [
    "az.plot_compare(df_comp, insample_dev=False)\n",
    "plt.show()"
   ]
  },
  {
   "cell_type": "code",
   "execution_count": null,
   "id": "79602dac",
   "metadata": {},
   "outputs": [],
   "source": [
    "axes = az.plot_forest(\n",
    "    data=[model_trace, model_trace_normal],\n",
    "    model_names=[\"model\", \"model_normal\"],\n",
    "    var_names=['alpha','delay','sigma'],\n",
    "    combined=True,\n",
    "    figsize=(10, 7),\n",
    ")\n",
    "plt.show()"
   ]
  },
  {
   "cell_type": "code",
   "execution_count": null,
   "id": "2f2dec0d",
   "metadata": {},
   "outputs": [],
   "source": [
    "axes = az.plot_forest(\n",
    "    data=[model_trace, model_trace_normal],\n",
    "    model_names=[\"model\", \"model_normal\"],\n",
    "    var_names=['beta_channel'],\n",
    "    combined=True,\n",
    "    figsize=(10, 7),\n",
    ")\n",
    "plt.show()"
   ]
  },
  {
   "cell_type": "code",
   "execution_count": null,
   "id": "7b341b15",
   "metadata": {},
   "outputs": [],
   "source": []
  }
 ],
 "metadata": {
  "kernelspec": {
   "display_name": "Python 3 (ipykernel)",
   "language": "python",
   "name": "python3"
  },
  "language_info": {
   "codemirror_mode": {
    "name": "ipython",
    "version": 3
   },
   "file_extension": ".py",
   "mimetype": "text/x-python",
   "name": "python",
   "nbconvert_exporter": "python",
   "pygments_lexer": "ipython3",
   "version": "3.9.16"
  }
 },
 "nbformat": 4,
 "nbformat_minor": 5
}
